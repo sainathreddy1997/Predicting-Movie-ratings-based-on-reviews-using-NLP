{
 "cells": [
  {
   "cell_type": "markdown",
   "metadata": {},
   "source": [
    "# SENTIMENTAL ANALYSIS"
   ]
  },
  {
   "cell_type": "markdown",
   "metadata": {},
   "source": [
    "# WEB SCRAPING USING BEAUTIFUL SOUP LIBRARY"
   ]
  },
  {
   "cell_type": "code",
   "execution_count": 1,
   "metadata": {},
   "outputs": [],
   "source": [
    "from bs4 import BeautifulSoup"
   ]
  },
  {
   "cell_type": "code",
   "execution_count": 2,
   "metadata": {},
   "outputs": [],
   "source": [
    "with open('website.html',encoding=\"utf8\") as file:\n",
    "    soup=BeautifulSoup(file,'lxml')"
   ]
  },
  {
   "cell_type": "markdown",
   "metadata": {},
   "source": [
    "# Extracting User's Reviews and Ratings from \"https://www.metacritic.com/movie/once-upon-a-time-in-hollywood/user-reviews\" for the movie \"Once upon a time in Hollywood\""
   ]
  },
  {
   "cell_type": "code",
   "execution_count": 3,
   "metadata": {},
   "outputs": [],
   "source": [
    "reviews=[]\n",
    "ratings=[]\n",
    "for review in soup.find_all('div',class_='review pad_top1'):\n",
    "    try:\n",
    "        summary=review.find('span',class_='blurb blurb_expanded')\n",
    "        summary=summary.text\n",
    "        reviews.append(summary)\n",
    "        rating=review.find('div',class_ =['metascore_w user large movie positive indiv perfect','metascore_w user large movie positive indiv',\"metascore_w user large movie negative indiv\",\"metascore_w user large movie mixed indiv\"])\n",
    "        rating=int(rating.text)\n",
    "        ratings.append(rating)        \n",
    "    except:\n",
    "        pass"
   ]
  },
  {
   "cell_type": "markdown",
   "metadata": {},
   "source": [
    "# DATA CLEANING --Removing Noise from the data (Coverting text to lower case, Removing the punctuation from the Reviews)"
   ]
  },
  {
   "cell_type": "code",
   "execution_count": 4,
   "metadata": {},
   "outputs": [],
   "source": [
    "import re\n",
    "import string\n",
    "clean_reviews=[]\n",
    "def datacleaning(text):\n",
    "    text=text.lower()\n",
    "    text = re.sub('\\[.*?\\]', '', text)\n",
    "    text = re.sub('[%s]' % re.escape(string.punctuation), '', text)\n",
    "    text = re.sub('\\w*\\d\\w*', '', text)\n",
    "    text = re.sub('[‘’“”…]', '', text)\n",
    "    return text\n",
    "for text in reviews:\n",
    "    data=datacleaning(text)\n",
    "    clean_reviews.append(data)"
   ]
  },
  {
   "cell_type": "code",
   "execution_count": 5,
   "metadata": {},
   "outputs": [],
   "source": [
    "import pandas as pd"
   ]
  },
  {
   "cell_type": "code",
   "execution_count": 6,
   "metadata": {},
   "outputs": [
    {
     "name": "stdout",
     "output_type": "stream",
     "text": [
      "                                             reviews\n",
      "0  this will certainly crack my yearend top  list...\n",
      "1  this was really disappointing there was basica...\n",
      "2  i was very excited for this the acting was sup...\n",
      "3  the reviews dont seem to mention or care that ...\n",
      "4  this movie could have been  long and nothing a...\n"
     ]
    }
   ],
   "source": [
    "df=pd.DataFrame(reviews,columns=['reviews'])\n",
    "df['reviews'] = clean_reviews\n",
    "print(df.head(5))"
   ]
  },
  {
   "cell_type": "markdown",
   "metadata": {},
   "source": [
    "# Performing NavieBayesAnalyzer on each Review"
   ]
  },
  {
   "cell_type": "code",
   "execution_count": 7,
   "metadata": {},
   "outputs": [],
   "source": [
    "from textblob import TextBlob\n",
    "from textblob.sentiments import NaiveBayesAnalyzer\n",
    "n_classi=[]\n",
    "predicted_pos=[]\n",
    "for text in df['reviews']:\n",
    "    blob=TextBlob(text,analyzer=NaiveBayesAnalyzer())\n",
    "    n_classi.append(blob.sentiment.classification)\n",
    "    predicted_pos.append(blob.sentiment.p_pos)\n",
    "predicted_pos=[_*10 for _ in predicted_pos]"
   ]
  },
  {
   "cell_type": "markdown",
   "metadata": {},
   "source": [
    "# Converting the actual and predicted ratings to a scale with 0 to 5 stars"
   ]
  },
  {
   "cell_type": "code",
   "execution_count": 8,
   "metadata": {},
   "outputs": [],
   "source": [
    "def rating_converter(rts):\n",
    "    stars=[]\n",
    "    for _ in rts:\n",
    "        if 0<=_<2:\n",
    "            x=1\n",
    "            stars.append(x)\n",
    "        if 2<=_<4:\n",
    "            x=2\n",
    "            stars.append(x)\n",
    "        if 4<=_<6:\n",
    "            x=3\n",
    "            stars.append(x)\n",
    "        if 6<=_<8:\n",
    "            x=4\n",
    "            stars.append(x)\n",
    "        if 8<=_<=10:\n",
    "            x=5\n",
    "            stars.append(x)\n",
    "    return stars"
   ]
  },
  {
   "cell_type": "code",
   "execution_count": 9,
   "metadata": {},
   "outputs": [],
   "source": [
    "predicted_ratings=rating_converter(predicted_pos)\n",
    "actual_ratings=rating_converter(ratings)"
   ]
  },
  {
   "cell_type": "markdown",
   "metadata": {},
   "source": [
    "# Confusion Matrix"
   ]
  },
  {
   "cell_type": "code",
   "execution_count": 10,
   "metadata": {},
   "outputs": [
    {
     "name": "stdout",
     "output_type": "stream",
     "text": [
      "Confusion matrix:\n",
      "[[ 4  4  2  0  2]\n",
      " [ 2  1  0  0  5]\n",
      " [ 5  0  0  0  3]\n",
      " [ 3  0  0  1  5]\n",
      " [ 2  0  3  2 23]]\n"
     ]
    }
   ],
   "source": [
    "from sklearn.metrics import confusion_matrix\n",
    "\n",
    "confusion = confusion_matrix(y_true=actual_ratings, y_pred=predicted_ratings)\n",
    "\n",
    "print('Confusion matrix:')\n",
    "print(confusion)"
   ]
  },
  {
   "cell_type": "code",
   "execution_count": 11,
   "metadata": {},
   "outputs": [
    {
     "data": {
      "image/png": "[encoded data removed]",
      "text/plain": [
       "<Figure size 720x720 with 2 Axes>"
      ]
     },
     "metadata": {
      "needs_background": "light"
     },
     "output_type": "display_data"
    }
   ],
   "source": [
    "%matplotlib inline\n",
    "import matplotlib.pyplot as plt\n",
    "import seaborn as sns\n",
    "plt.figure(figsize=(10, 10))\n",
    "confusion_df = pd.DataFrame(confusion, index=range(5), columns=range(5))\n",
    "axes = sns.heatmap(confusion_df, annot=True,cmap='YlGnBu',fmt=\"d\",linewidths=.5)"
   ]
  },
  {
   "cell_type": "markdown",
   "metadata": {},
   "source": [
    "# Classification Report"
   ]
  },
  {
   "cell_type": "code",
   "execution_count": 12,
   "metadata": {},
   "outputs": [
    {
     "name": "stdout",
     "output_type": "stream",
     "text": [
      "              precision    recall  f1-score   support\n",
      "\n",
      "           1       0.25      0.33      0.29        12\n",
      "           2       0.20      0.12      0.15         8\n",
      "           3       0.00      0.00      0.00         8\n",
      "           4       0.33      0.11      0.17         9\n",
      "           5       0.61      0.77      0.68        30\n",
      "\n",
      "    accuracy                           0.43        67\n",
      "   macro avg       0.28      0.27      0.26        67\n",
      "weighted avg       0.38      0.43      0.39        67\n",
      "\n"
     ]
    }
   ],
   "source": [
    "from sklearn.metrics import classification_report\n",
    "\n",
    "print(classification_report(actual_ratings, predicted_ratings))"
   ]
  },
  {
   "cell_type": "markdown",
   "metadata": {},
   "source": [
    "## --------------------------------------------------REPORT-------------------------------------------------------------------"
   ]
  },
  {
   "cell_type": "markdown",
   "metadata": {},
   "source": [
    "## Since I have taken the reviews and ratings from the users there may be some uncertanity in reviews and ratings.\n",
    "## Therefore the total accuracy for predicting the ratings from the user's reviews is nearly 50%"
   ]
  },
  {
   "cell_type": "markdown",
   "metadata": {},
   "source": [
    "## ---------------------------------------------------------------------------------------------------------------------------------"
   ]
  },
  {
   "cell_type": "markdown",
   "metadata": {},
   "source": [
    "# --------------------------------------------------------------------------------------------------------------"
   ]
  },
  {
   "cell_type": "markdown",
   "metadata": {},
   "source": [
    "# SIMILARITY ANALYSIS"
   ]
  },
  {
   "cell_type": "markdown",
   "metadata": {},
   "source": [
    "# Dataset1 contains critic names and reviews for the movie JOKER\n",
    "# Dataset2 contains critic names and reviews for the movie PARASITE"
   ]
  },
  {
   "cell_type": "code",
   "execution_count": 13,
   "metadata": {},
   "outputs": [],
   "source": [
    "import pandas as pd\n",
    "import spacy\n",
    "nlk=spacy.load('en')\n",
    "\n",
    "dataset1=pd.read_csv('joker_movie.csv')\n",
    "dataset2=pd.read_csv('parasite_movie.csv')"
   ]
  },
  {
   "cell_type": "markdown",
   "metadata": {},
   "source": [
    "# CLEANING DATA -- converting into lowercase and removing the punctuations"
   ]
  },
  {
   "cell_type": "code",
   "execution_count": 14,
   "metadata": {},
   "outputs": [],
   "source": [
    "import re\n",
    "import string\n",
    "clean_reviews1=[]\n",
    "clean_reviews2=[]\n",
    "def datacleaning(text):\n",
    "    text=text.lower()\n",
    "    text = re.sub('\\[.*?\\]', '', text)\n",
    "    text = re.sub('[%s]' % re.escape(string.punctuation), '', text)\n",
    "    text = re.sub('\\w*\\d\\w*', '', text)\n",
    "    text = re.sub('[‘’“”…]', '', text)\n",
    "    return text\n",
    "for text in dataset1['review']:\n",
    "    data=datacleaning(text)\n",
    "    clean_reviews1.append(data)\n",
    "for text in dataset2['reviews']:\n",
    "    data=datacleaning(text)\n",
    "    clean_reviews2.append(data)\n",
    "dataset1.drop(['review'],axis=1,inplace=True)\n",
    "dataset2.drop(['reviews'],axis=1,inplace=True)\n",
    "dataset1['reviews']=pd.DataFrame(clean_reviews1)\n",
    "dataset2['reviews']=pd.DataFrame(clean_reviews2)"
   ]
  },
  {
   "cell_type": "code",
   "execution_count": 15,
   "metadata": {},
   "outputs": [
    {
     "data": {
      "text/html": [
       "<div>\n",
       "<style scoped>\n",
       "    .dataframe tbody tr th:only-of-type {\n",
       "        vertical-align: middle;\n",
       "    }\n",
       "\n",
       "    .dataframe tbody tr th {\n",
       "        vertical-align: top;\n",
       "    }\n",
       "\n",
       "    .dataframe thead th {\n",
       "        text-align: right;\n",
       "    }\n",
       "</style>\n",
       "<table border=\"1\" class=\"dataframe\">\n",
       "  <thead>\n",
       "    <tr style=\"text-align: right;\">\n",
       "      <th></th>\n",
       "      <th>film_critic</th>\n",
       "      <th>reviews</th>\n",
       "    </tr>\n",
       "  </thead>\n",
       "  <tbody>\n",
       "    <tr>\n",
       "      <th>0</th>\n",
       "      <td>James Berardinelli</td>\n",
       "      <td>in the batman universe there are two kinds of ...</td>\n",
       "    </tr>\n",
       "    <tr>\n",
       "      <th>1</th>\n",
       "      <td>roger edbert</td>\n",
       "      <td>in mainstream movies today dark is just anothe...</td>\n",
       "    </tr>\n",
       "    <tr>\n",
       "      <th>2</th>\n",
       "      <td>peter travers</td>\n",
       "      <td>for the first time the man who laughs gets the...</td>\n",
       "    </tr>\n",
       "    <tr>\n",
       "      <th>3</th>\n",
       "      <td>armond white</td>\n",
       "      <td>oaquin phoenixs performance in joker might hav...</td>\n",
       "    </tr>\n",
       "  </tbody>\n",
       "</table>\n",
       "</div>"
      ],
      "text/plain": [
       "          film_critic                                            reviews\n",
       "0  James Berardinelli  in the batman universe there are two kinds of ...\n",
       "1        roger edbert  in mainstream movies today dark is just anothe...\n",
       "2       peter travers  for the first time the man who laughs gets the...\n",
       "3        armond white  oaquin phoenixs performance in joker might hav..."
      ]
     },
     "execution_count": 15,
     "metadata": {},
     "output_type": "execute_result"
    }
   ],
   "source": [
    "dataset1"
   ]
  },
  {
   "cell_type": "code",
   "execution_count": 16,
   "metadata": {},
   "outputs": [
    {
     "data": {
      "text/html": [
       "<div>\n",
       "<style scoped>\n",
       "    .dataframe tbody tr th:only-of-type {\n",
       "        vertical-align: middle;\n",
       "    }\n",
       "\n",
       "    .dataframe tbody tr th {\n",
       "        vertical-align: top;\n",
       "    }\n",
       "\n",
       "    .dataframe thead th {\n",
       "        text-align: right;\n",
       "    }\n",
       "</style>\n",
       "<table border=\"1\" class=\"dataframe\">\n",
       "  <thead>\n",
       "    <tr style=\"text-align: right;\">\n",
       "      <th></th>\n",
       "      <th>film_critic</th>\n",
       "      <th>reviews</th>\n",
       "    </tr>\n",
       "  </thead>\n",
       "  <tbody>\n",
       "    <tr>\n",
       "      <th>0</th>\n",
       "      <td>James Berardinelli</td>\n",
       "      <td>parasite opens with a stark reminder that the ...</td>\n",
       "    </tr>\n",
       "    <tr>\n",
       "      <th>1</th>\n",
       "      <td>roger edbert</td>\n",
       "      <td>its so clichéd at this point in the critical c...</td>\n",
       "    </tr>\n",
       "    <tr>\n",
       "      <th>2</th>\n",
       "      <td>peter travers</td>\n",
       "      <td>a bloodsoaked fable the latest from south kore...</td>\n",
       "    </tr>\n",
       "    <tr>\n",
       "      <th>3</th>\n",
       "      <td>armond white</td>\n",
       "      <td>nothing in bong joonhos parasite matches the b...</td>\n",
       "    </tr>\n",
       "  </tbody>\n",
       "</table>\n",
       "</div>"
      ],
      "text/plain": [
       "          film_critic                                            reviews\n",
       "0  James Berardinelli  parasite opens with a stark reminder that the ...\n",
       "1        roger edbert  its so clichéd at this point in the critical c...\n",
       "2       peter travers  a bloodsoaked fable the latest from south kore...\n",
       "3        armond white  nothing in bong joonhos parasite matches the b..."
      ]
     },
     "execution_count": 16,
     "metadata": {},
     "output_type": "execute_result"
    }
   ],
   "source": [
    "dataset2"
   ]
  },
  {
   "cell_type": "markdown",
   "metadata": {},
   "source": [
    "# Performing the Similarity analysis on each review of dataset1 to the each review of dataset 2"
   ]
  },
  {
   "cell_type": "code",
   "execution_count": 17,
   "metadata": {},
   "outputs": [
    {
     "name": "stdout",
     "output_type": "stream",
     "text": [
      "The similarity between James Berardinelli and James Berardinelli is 97.85987981267806% and its True Positive\n",
      "The similarity between James Berardinelli and roger edbert is 96.36985804812176% and its False Negative\n",
      "The similarity between James Berardinelli and peter travers is 96.85903458752315% and its False Negative\n",
      "The similarity between James Berardinelli and armond white is 97.61434403725688% and its False Positive\n",
      "The similarity between roger edbert and James Berardinelli is 95.15905751467389% and its False Negative\n",
      "The similarity between roger edbert and roger edbert is 98.52892534070446% and its True Positive\n",
      "The similarity between roger edbert and peter travers is 93.7131758109621% and its False Negative\n",
      "The similarity between roger edbert and armond white is 91.44935323926677% and its False Negative\n",
      "The similarity between peter travers and James Berardinelli is 94.57510632311845% and its False Negative\n",
      "The similarity between peter travers and roger edbert is 94.6793547110132% and its False Negative\n",
      "The similarity between peter travers and peter travers is 97.36670602961519% and its True Positive\n",
      "The similarity between peter travers and armond white is 96.35164089412947% and its False Negative\n",
      "The similarity between armond white and James Berardinelli is 91.39315572199808% and its False Negative\n",
      "The similarity between armond white and roger edbert is 91.53965487238858% and its False Negative\n",
      "The similarity between armond white and peter travers is 95.12447605265133% and its False Negative\n",
      "The similarity between armond white and armond white is 96.8034497466297% and its True Negative\n"
     ]
    }
   ],
   "source": [
    "import warnings\n",
    "warnings.filterwarnings('ignore')\n",
    "values=[]\n",
    "for c1,r1 in zip(dataset1['film_critic'],dataset1['reviews']):\n",
    "    for c2,r2 in zip(dataset2['film_critic'],dataset2['reviews']):\n",
    "        document1=nlk(r1)\n",
    "        document2=nlk(r2)\n",
    "        sim=document1.similarity(document2)\n",
    "        if c1 == c2 and sim > 0.97:\n",
    "            z = 'True Positive'\n",
    "        elif c1 == c2 and sim < 0.97:\n",
    "            z = 'True Negative'\n",
    "        elif c1 != c2 and sim > 0.97:\n",
    "            z = 'False Positive'\n",
    "            \n",
    "        elif c1 != c2 and sim < 0.97:\n",
    "            z = 'False Negative'\n",
    "        values.append(z)\n",
    "        print(f'The similarity between {c1} and {c2} is {(sim*100)}% and its {z}')"
   ]
  },
  {
   "cell_type": "code",
   "execution_count": 18,
   "metadata": {},
   "outputs": [
    {
     "name": "stdout",
     "output_type": "stream",
     "text": [
      "The number of false negatives and false positives are \n",
      " Counter({'False Negative': 11, 'True Positive': 3, 'False Positive': 1, 'True Negative': 1})\n"
     ]
    }
   ],
   "source": [
    "from collections import *\n",
    "true_false_count = Counter(values)\n",
    "print(f'The number of false negatives and false positives are \\n {true_false_count}')"
   ]
  },
  {
   "cell_type": "code",
   "execution_count": 19,
   "metadata": {},
   "outputs": [
    {
     "name": "stdout",
     "output_type": "stream",
     "text": [
      "The accuracy of the similarity analysis is 87.5\n"
     ]
    }
   ],
   "source": [
    "accuracy = (true_false_count['False Negative']+true_false_count['True Positive'])/sum(true_false_count.values())*100\n",
    "print(f'The accuracy of the similarity analysis is {accuracy}')"
   ]
  }
 ],
 "metadata": {
  "kernelspec": {
   "display_name": "Python 3",
   "language": "python",
   "name": "python3"
  },
  "language_info": {
   "codemirror_mode": {
    "name": "ipython",
    "version": 3
   },
   "file_extension": ".py",
   "mimetype": "text/x-python",
   "name": "python",
   "nbconvert_exporter": "python",
   "pygments_lexer": "ipython3",
   "version": "3.7.7"
  }
 },
 "nbformat": 4,
 "nbformat_minor": 2
}
